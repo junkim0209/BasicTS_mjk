{
 "cells": [
  {
   "cell_type": "code",
   "execution_count": 1,
   "metadata": {},
   "outputs": [],
   "source": [
    "import torch\n",
    "import lightgbm as lgb\n",
    "\n",
    "import os\n",
    "import sys\n",
    "PROJECT_DIR = os.path.abspath(\"../..\")\n",
    "sys.path.append(PROJECT_DIR)\n",
    "\n",
    "from basicts.utils import load_pkl\n",
    "from basicts.data import TimeSeriesForecastingDataset\n",
    "from basicts.metrics import masked_mae, masked_rmse, masked_mape\n",
    "from basicts.data import SCALER_REGISTRY\n"
   ]
  },
  {
   "cell_type": "markdown",
   "metadata": {},
   "source": [
    "## Construct hyper parameters"
   ]
  },
  {
   "cell_type": "code",
   "execution_count": 2,
   "metadata": {},
   "outputs": [],
   "source": [
    "# construct configs\n",
    "dataset_name = \"PEMS08\"\n",
    "input_len = 12\n",
    "output_len = 12\n",
    "gpu_num = 1\n",
    "null_val = 0.0\n",
    "train_data_dir = \"datasets/\" + dataset_name\n",
    "rescale = True\n",
    "batch_size = 128 # only used for collecting data\n",
    "\n",
    "# lgm params\n",
    "params = {\n",
    "    'boosting_type': 'gbdt',\n",
    "    'objective': 'regression',\n",
    "    'metric': 'l2',\n",
    "    'num_leaves': 31,\n",
    "    'learning_rate': 0.05,\n",
    "    'feature_fraction': 0.9,\n",
    "    'bagging_fraction': 0.8,\n",
    "    'bagging_freq': 5,\n",
    "    'verbose': 0\n",
    "}"
   ]
  },
  {
   "cell_type": "markdown",
   "metadata": {},
   "source": [
    "## Construct datasets"
   ]
  },
  {
   "cell_type": "code",
   "execution_count": 3,
   "metadata": {},
   "outputs": [],
   "source": [
    "# construct dataset\n",
    "data_file_path = PROJECT_DIR + \"/{0}/data_in_{1}_out_{2}_rescale_{3}.pkl\".format(train_data_dir, input_len, output_len, rescale)\n",
    "index_file_path = PROJECT_DIR + \"/{0}/index_in_{1}_out_{2}_rescale_{3}.pkl\".format(train_data_dir, input_len, output_len, rescale)\n",
    "\n",
    "train_set = TimeSeriesForecastingDataset(data_file_path, index_file_path, mode=\"train\")\n",
    "train_loader = torch.utils.data.DataLoader(train_set, batch_size=batch_size, shuffle=True)\n",
    "\n",
    "valid_set = TimeSeriesForecastingDataset(data_file_path, index_file_path, mode=\"valid\")\n",
    "valid_loader = torch.utils.data.DataLoader(valid_set, batch_size=batch_size, shuffle=False)\n",
    "\n",
    "test_set = TimeSeriesForecastingDataset(data_file_path, index_file_path, mode=\"test\")\n",
    "test_loader = torch.utils.data.DataLoader(test_set, batch_size=batch_size, shuffle=False)"
   ]
  },
  {
   "cell_type": "code",
   "execution_count": 4,
   "metadata": {},
   "outputs": [],
   "source": [
    "# training & validation\n",
    "Xs_train = []\n",
    "Ys_train = []\n",
    "Xs_valid = []\n",
    "Ys_valid = []\n",
    "Xs_test = []\n",
    "Ys_test = []\n",
    "\n",
    "for i, (data, target) in enumerate(train_loader):\n",
    "    B, L, N, C = data.shape\n",
    "    data = data.transpose(1, 2).reshape(B*N, L, C)[:, :, 0]\n",
    "    target = target.transpose(1, 2).reshape(B*N, L, C)[:, :, 0]\n",
    "    Xs_train.append(data)\n",
    "    Ys_train.append(target)\n",
    "\n",
    "for i, (data, target) in enumerate(valid_loader):\n",
    "    B, L, N, C = data.shape\n",
    "    data = data.transpose(1, 2).reshape(B*N, L, C)[:, :, 0]\n",
    "    target = target.transpose(1, 2).reshape(B*N, L, C)[:, :, 0]\n",
    "    Xs_valid.append(data)\n",
    "    Ys_valid.append(target)\n",
    "\n",
    "for i, (data, target) in enumerate(test_loader):\n",
    "    B, L, N, C = data.shape\n",
    "    data = data.transpose(1, 2).reshape(B*N, L, C)[:, :, 0]\n",
    "    target = target.transpose(1, 2).reshape(B*N, L, C)[:, :, 0]\n",
    "    Xs_test.append(data)\n",
    "    Ys_test.append(target)\n",
    "\n",
    "Xs_train = torch.cat(Xs_train, dim=0).numpy()\n",
    "Ys_train = torch.cat(Ys_train, dim=0).numpy()\n",
    "Xs_valid = torch.cat(Xs_valid, dim=0).numpy()\n",
    "Ys_valid = torch.cat(Ys_valid, dim=0).numpy()\n",
    "Xs_test = torch.cat(Xs_test, dim=0).numpy()\n",
    "Ys_test = torch.cat(Ys_test, dim=0).numpy()\n"
   ]
  },
  {
   "cell_type": "markdown",
   "metadata": {},
   "source": [
    "## Direct Multi-step Forecasting (Train)"
   ]
  },
  {
   "cell_type": "code",
   "execution_count": null,
   "metadata": {},
   "outputs": [],
   "source": [
    "# direct forecasting\n",
    "from sklearn.multioutput import MultiOutputRegressor\n",
    "model = MultiOutputRegressor(lgb.LGBMRegressor(), n_jobs = -1)\n",
    "model.fit(Xs_train, Ys_train)"
   ]
  },
  {
   "cell_type": "markdown",
   "metadata": {},
   "source": [
    "## Direct Multi-step Forecasting (Test)"
   ]
  },
  {
   "cell_type": "code",
   "execution_count": null,
   "metadata": {},
   "outputs": [],
   "source": [
    "# inference\n",
    "preds_test = model.predict(Xs_test)\n",
    "# rescale\n",
    "scaler = load_pkl(PROJECT_DIR + \"/{0}/scaler_in_{1}_out_{2}_rescale_{3}.pkl\".format(train_data_dir, input_len, output_len, rescale))\n",
    "preds_test = torch.Tensor(preds_test).view(-1, N, output_len).transpose(1, 2).unsqueeze(-1)\n",
    "Ys_test = torch.Tensor(Ys_test).view(-1, N, output_len).transpose(1, 2).unsqueeze(-1)\n",
    "prediction = SCALER_REGISTRY.get(scaler[\"func\"])(preds_test, **scaler[\"args\"])\n",
    "real_value = SCALER_REGISTRY.get(scaler[\"func\"])(Ys_test, **scaler[\"args\"])\n",
    "# print results\n",
    "print(\"MAE: \", masked_mae(prediction, real_value, null_val).item())\n",
    "print(\"RMSE: \", masked_rmse(prediction, real_value, null_val).item())\n",
    "print(\"MAPE: {:.2f}%\".format(masked_mape(prediction, real_value, null_val) * 100))"
   ]
  }
 ],
 "metadata": {
  "kernelspec": {
   "display_name": "BasicTS",
   "language": "python",
   "name": "python3"
  },
  "language_info": {
   "codemirror_mode": {
    "name": "ipython",
    "version": 3
   },
   "file_extension": ".py",
   "mimetype": "text/x-python",
   "name": "python",
   "nbconvert_exporter": "python",
   "pygments_lexer": "ipython3",
   "version": "3.9.15"
  }
 },
 "nbformat": 4,
 "nbformat_minor": 2
}
